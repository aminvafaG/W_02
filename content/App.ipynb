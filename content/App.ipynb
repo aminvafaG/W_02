{
  "cells": [
    {
      "cell_type": "markdown",
      "metadata": {},
      "source": [
        "# V1 Units Dashboard — Pure JupyterLite\n",
        "\n",
        "This dashboard runs **entirely in your browser** (Pyodide).  \n",
        "No server required. Code cells are hidden by default."
      ]
    },
    {
      "cell_type": "code",
      "execution_count": null,
      "id": "72634945",
      "metadata": {},
      "outputs": [],
      "source": [
        "import sys\n",
        "if \"pyodide\" in sys.modules:\n",
        "    import piplite\n",
        "    await piplite.install([\"ipywidgets\"])"
      ]
    },
    {
      "cell_type": "code",
      "execution_count": null,
      "metadata": {
        "jupyter": {
          "source_hidden": true
        },
        "tags": [
          "hide-input"
        ]
      },
      "outputs": [],
      "source": [
        "# Hide inputs (you can toggle by setting SHOW_CODE=True and re-running this cell)\n",
        "from IPython.display import HTML, display\n",
        "SHOW_CODE = False\n",
        "_style_id = \"hide-code-style\"\n",
        "\n",
        "def _set_code_visibility(show: bool):\n",
        "    css = \"\" if show else \"div.jp-Cell-inputWrapper { display: none; }\"\n",
        "    html = f\"<style id='{_style_id}'>{css}</style>\"\n",
        "    display(HTML(html))\n",
        "\n",
        "_set_code_visibility(SHOW_CODE)"
      ]
    },
    {
      "cell_type": "code",
      "execution_count": null,
      "metadata": {
        "jupyter": {
          "source_hidden": true
        },
        "tags": [
          "hide-input"
        ]
      },
      "outputs": [],
      "source": [
        "import numpy as np, pandas as pd\n",
        "import matplotlib.pyplot as plt\n",
        "import ipywidgets as W\n",
        "from IPython.display import display, clear_output\n",
        "import utils as U\n",
        "from utils import synth_dataset, filter_units, overlay_plot\n",
        "\n",
        "UNITS, CTRL, LASER, THETAS = U.synth_dataset(n_units=400, seed=1, ori_step=10)\n",
        "\n",
        "# Widgets\n",
        "layer_opts = [\"SG\", \"G\", \"IG\"]\n",
        "layer_sel  = W.SelectMultiple(options=layer_opts, value=tuple(layer_opts), description=\"Layers\", rows=3)\n",
        "osi_rng    = W.FloatRangeSlider(value=[0.0, 1.0], min=0.0, max=1.0, step=0.01, description=\"OSI\")\n",
        "hbw_rng    = W.IntRangeSlider(value=[5, 90], min=1, max=180, step=1, description=\"HBW (°)\")\n",
        "effect_dd  = W.Dropdown(options=[\"Any\", \"MUL\", \"MXH\"], value=\"Any\", description=\"Effect\")\n",
        "show_mean  = W.Checkbox(value=True, description=\"Show mean curve\")\n",
        "unit_pick  = W.Dropdown(options=[(\"—\", None)], value=None, description=\"Unit\")\n",
        "\n",
        "scatter_out = W.Output(layout=W.Layout(border=\"1px solid #e0e0e0\", min_height=\"280px\"))\n",
        "tuning_out  = W.Output(layout=W.Layout(border=\"1px solid #e0e0e0\", min_height=\"360px\"))\n",
        "detail_out  = W.Output(layout=W.Layout(border=\"1px solid #e0e0e0\", min_height=\"360px\"))\n",
        "status_html = W.HTML()\n",
        "\n",
        "def refresh(*_):\n",
        "    df = U.filter_units(\n",
        "        UNITS,\n",
        "        layers=list(layer_sel.value),\n",
        "        osi_range=tuple(osi_rng.value),\n",
        "        hbw_range=tuple(hbw_rng.value),\n",
        "        effect=effect_dd.value\n",
        "    )\n",
        "\n",
        "    # Update unit picker\n",
        "    if len(df):\n",
        "        unit_pick.options = [(f\"Unit {int(u)} ({r.layer}, {r.effect})\", int(u)) for u, r in df.set_index(\"unit_id\").iterrows()]\n",
        "        unit_pick.value = unit_pick.options[0][1]\n",
        "    else:\n",
        "        unit_pick.options, unit_pick.value = [(\"—\", None)], None\n",
        "\n",
        "    # Status\n",
        "    status_html.value = f\"<b>Matched units:</b> {len(df)}\"\n",
        "\n",
        "    # Scatter\n",
        "    with scatter_out:\n",
        "        clear_output()\n",
        "        fig, ax = plt.subplots(figsize=(5, 3))\n",
        "        ax.scatter(df[\"HBW\"], df[\"OSI\"], alpha=0.7)\n",
        "        ax.set_xlabel(\"HBW (deg)\"); ax.set_ylabel(\"OSI\"); ax.set_title(\"OSI vs HBW (filtered)\")\n",
        "        ax.grid(True, alpha=0.3)\n",
        "        display(fig)\n",
        "\n",
        "    # Overlay tuning\n",
        "    with tuning_out:\n",
        "        clear_output()\n",
        "        fig, ax = plt.subplots(figsize=(5.5, 3))\n",
        "        U.overlay_plot(ax, ctrl=CTRL, laser=LASER, thetas=THETAS, unit_ids=df[\"unit_id\"].tolist(), show_mean=show_mean.value)\n",
        "        display(fig)\n",
        "\n",
        "    # Detail for selected unit\n",
        "    show_unit_detail()\n",
        "\n",
        "def show_unit_detail(*_):\n",
        "    uid = unit_pick.value\n",
        "    with detail_out:\n",
        "        clear_output()\n",
        "        if uid is None:\n",
        "            print(\"Select a unit to view details.\")\n",
        "            return\n",
        "        row = UNITS.loc[UNITS.unit_id == uid].iloc[0]\n",
        "        yc = CTRL.loc[CTRL.unit_id == uid, \"rate\"].values\n",
        "        yl = LASER.loc[LASER.unit_id == uid, \"rate\"].values\n",
        "        fig, ax = plt.subplots(figsize=(5.5, 3))\n",
        "        ax.plot(THETAS, yc, label=\"Control\")\n",
        "        ax.plot(THETAS, yl, label=\"Laser\", linestyle=\"--\")\n",
        "        ax.set_title(f\"Unit {uid} — layer={row.layer}, effect={row.effect}, OSI={row.OSI:.2f}, HBW={row.HBW:.1f}°\")\n",
        "        ax.set_xlabel(\"Orientation (deg)\"); ax.set_ylabel(\"FR (a.u.)\")\n",
        "        ax.legend(loc=\"best\"); ax.grid(True, alpha=0.3)\n",
        "        display(fig)\n",
        "\n",
        "# Wire callbacks\n",
        "for w in (layer_sel, osi_rng, hbw_rng, effect_dd, show_mean):\n",
        "    w.observe(refresh, names=\"value\")\n",
        "unit_pick.observe(show_unit_detail, names=\"value\")\n",
        "\n",
        "# Initial render\n",
        "refresh()\n",
        "\n",
        "controls = W.VBox([\n",
        "    W.HTML(\"<b>Filters</b>\"),\n",
        "    layer_sel,\n",
        "    osi_rng,\n",
        "    hbw_rng,\n",
        "    effect_dd,\n",
        "    show_mean,\n",
        "    W.HTML(\"<hr><b>Inspect</b>\"),\n",
        "    unit_pick,\n",
        "    W.HTML(\"<hr>\")\n",
        "], layout=W.Layout(min_width=\"280px\"))\n",
        "\n",
        "layout = W.HBox([controls, W.VBox([status_html, scatter_out, tuning_out, detail_out])])\n",
        "display(layout)"
      ]
    }
  ],
  "metadata": {
    "kernelspec": {
      "display_name": "Python (Pyodide)",
      "language": "python",
      "name": "python"
    },
    "language_info": {
      "name": "python",
      "version": "3.11"
    }
  },
  "nbformat": 4,
  "nbformat_minor": 5
}
