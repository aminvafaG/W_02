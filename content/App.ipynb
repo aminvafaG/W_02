{
  "cells": [
    {
      "cell_type": "markdown",
      "metadata": {},
      "source": "# V1 Units Dashboard \u2014 Pure JupyterLite\n\nThis dashboard runs **entirely in your browser** (Pyodide).  \nNo server required. Code cells are hidden by default."
    },
    {
      "cell_type": "code",
      "execution_count": null,
      "metadata": {
        "tags": [
          "hide-input"
        ],
        "jupyter": {
          "source_hidden": true
        }
      },
      "outputs": [],
      "source": "# Hide inputs (you can toggle by setting SHOW_CODE=True and re-running this cell)\nfrom IPython.display import HTML, display\nSHOW_CODE = False\n_style_id = \"hide-code-style\"\n\ndef _set_code_visibility(show: bool):\n    css = \"\" if show else \"div.jp-Cell-inputWrapper { display: none; }\"\n    html = f\"<style id='{_style_id}'>{css}</style>\"\n    display(HTML(html))\n\n_set_code_visibility(SHOW_CODE)"
    },
    {
      "cell_type": "code",
      "execution_count": null,
      "metadata": {
        "tags": [
          "hide-input"
        ],
        "jupyter": {
          "source_hidden": true
        }
      },
      "outputs": [],
      "source": "import numpy as np, pandas as pd\nimport matplotlib.pyplot as plt\nimport ipywidgets as W\nfrom IPython.display import display, clear_output\nimport utils as U\n\nUNITS, CTRL, LASER, THETAS = U.synth_dataset(n_units=400, seed=1, ori_step=10)\n\n# Widgets\nlayer_opts = [\"SG\", \"G\", \"IG\"]\nlayer_sel  = W.SelectMultiple(options=layer_opts, value=tuple(layer_opts), description=\"Layers\", rows=3)\nosi_rng    = W.FloatRangeSlider(value=[0.0, 1.0], min=0.0, max=1.0, step=0.01, description=\"OSI\")\nhbw_rng    = W.IntRangeSlider(value=[5, 90], min=1, max=180, step=1, description=\"HBW (\u00b0)\")\neffect_dd  = W.Dropdown(options=[\"Any\", \"MUL\", \"MXH\"], value=\"Any\", description=\"Effect\")\nshow_mean  = W.Checkbox(value=True, description=\"Show mean curve\")\nunit_pick  = W.Dropdown(options=[(\"\u2014\", None)], value=None, description=\"Unit\")\n\nscatter_out = W.Output(layout=W.Layout(border=\"1px solid #e0e0e0\", min_height=\"280px\"))\ntuning_out  = W.Output(layout=W.Layout(border=\"1px solid #e0e0e0\", min_height=\"360px\"))\ndetail_out  = W.Output(layout=W.Layout(border=\"1px solid #e0e0e0\", min_height=\"360px\"))\nstatus_html = W.HTML()\n\ndef refresh(*_):\n    df = U.filter_units(\n        UNITS,\n        layers=list(layer_sel.value),\n        osi_range=tuple(osi_rng.value),\n        hbw_range=tuple(hbw_rng.value),\n        effect=effect_dd.value\n    )\n\n    # Update unit picker\n    if len(df):\n        unit_pick.options = [(f\"Unit {int(u)} ({r.layer}, {r.effect})\", int(u)) for u, r in df.set_index(\"unit_id\").iterrows()]\n        unit_pick.value = unit_pick.options[0][1]\n    else:\n        unit_pick.options, unit_pick.value = [(\"\u2014\", None)], None\n\n    # Status\n    status_html.value = f\"<b>Matched units:</b> {len(df)}\"\n\n    # Scatter\n    with scatter_out:\n        clear_output()\n        fig, ax = plt.subplots(figsize=(5, 3))\n        ax.scatter(df[\"HBW\"], df[\"OSI\"], alpha=0.7)\n        ax.set_xlabel(\"HBW (deg)\"); ax.set_ylabel(\"OSI\"); ax.set_title(\"OSI vs HBW (filtered)\")\n        ax.grid(True, alpha=0.3)\n        display(fig)\n\n    # Overlay tuning\n    with tuning_out:\n        clear_output()\n        fig, ax = plt.subplots(figsize=(5.5, 3))\n        U.overlay_plot(ax, ctrl=CTRL, laser=LASER, thetas=THETAS, unit_ids=df[\"unit_id\"].tolist(), show_mean=show_mean.value)\n        display(fig)\n\n    # Detail for selected unit\n    show_unit_detail()\n\ndef show_unit_detail(*_):\n    uid = unit_pick.value\n    with detail_out:\n        clear_output()\n        if uid is None:\n            print(\"Select a unit to view details.\")\n            return\n        row = UNITS.loc[UNITS.unit_id == uid].iloc[0]\n        yc = CTRL.loc[CTRL.unit_id == uid, \"rate\"].values\n        yl = LASER.loc[LASER.unit_id == uid, \"rate\"].values\n        fig, ax = plt.subplots(figsize=(5.5, 3))\n        ax.plot(THETAS, yc, label=\"Control\")\n        ax.plot(THETAS, yl, label=\"Laser\", linestyle=\"--\")\n        ax.set_title(f\"Unit {uid} \u2014 layer={row.layer}, effect={row.effect}, OSI={row.OSI:.2f}, HBW={row.HBW:.1f}\u00b0\")\n        ax.set_xlabel(\"Orientation (deg)\"); ax.set_ylabel(\"FR (a.u.)\")\n        ax.legend(loc=\"best\"); ax.grid(True, alpha=0.3)\n        display(fig)\n\n# Wire callbacks\nfor w in (layer_sel, osi_rng, hbw_rng, effect_dd, show_mean):\n    w.observe(refresh, names=\"value\")\nunit_pick.observe(show_unit_detail, names=\"value\")\n\n# Initial render\nrefresh()\n\ncontrols = W.VBox([\n    W.HTML(\"<b>Filters</b>\"),\n    layer_sel,\n    osi_rng,\n    hbw_rng,\n    effect_dd,\n    show_mean,\n    W.HTML(\"<hr><b>Inspect</b>\"),\n    unit_pick,\n    W.HTML(\"<hr>\")\n], layout=W.Layout(min_width=\"280px\"))\n\nlayout = W.HBox([controls, W.VBox([status_html, scatter_out, tuning_out, detail_out])])\ndisplay(layout)"
    }
  ],
  "metadata": {
    "kernelspec": {
      "display_name": "Python (Pyodide)",
      "language": "python",
      "name": "python"
    },
    "language_info": {
      "name": "python",
      "version": "3.11"
    }
  },
  "nbformat": 4,
  "nbformat_minor": 5
}